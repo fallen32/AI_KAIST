{
 "cells": [
  {
   "cell_type": "code",
   "execution_count": 11,
   "metadata": {},
   "outputs": [
    {
     "name": "stdout",
     "output_type": "stream",
     "text": [
      "[[0.   0.   0.   0.   0.   0.   0.   0.  ]\n",
      " [0.   0.   0.   1.   1.   0.   0.   0.  ]\n",
      " [0.   0.   1.   0.   0.   0.25 0.   0.  ]\n",
      " [0.   0.   1.   0.   0.   1.   0.   0.  ]\n",
      " [0.   0.   1.   0.   0.   1.   0.25 0.  ]\n",
      " [0.   0.   1.   0.   0.   0.   0.   0.  ]\n",
      " [0.   0.   1.   0.   0.   0.   0.   0.  ]\n",
      " [0.   0.   0.   0.   0.   0.   0.   0.  ]]\n",
      "[[-1.   -1.    0.    0.75  1.    0.25]\n",
      " [-2.   -1.    1.   -0.25  1.    1.25]\n",
      " [-3.    0.    3.   -2.25 -0.25  2.25]\n",
      " [-3.    0.    3.   -2.   -0.25  2.  ]\n",
      " [-3.    0.    3.   -1.   -0.25  1.  ]\n",
      " [-2.    0.    2.    0.    0.    0.  ]]\n"
     ]
    },
    {
     "data": {
      "image/png": "[encoded data removed]",
      "text/plain": [
       "<Figure size 288x288 with 1 Axes>"
      ]
     },
     "metadata": {
      "needs_background": "light"
     },
     "output_type": "display_data"
    }
   ],
   "source": [
    "import numpy as np\n",
    "import matplotlib.pyplot as plt\n",
    "from scipy.ndimage.filters import convolve\n",
    "\n",
    "input_image = np.array([[0, 0, 1, 1, 0, 0], \n",
    "                        [0, 1, 0, 0, 0.25, 0], \n",
    "                        [0, 1, 0, 0, 1, 0], \n",
    "                        [0, 1, 0, 0, 1, 0.25], \n",
    "                        [0, 1, 0, 0, 0, 0], \n",
    "                        [0, 1, 0, 0, 0, 0]])\n",
    "kernel = np.array([[-1, 0, 1],\n",
    "                   [-1, 0, 1],\n",
    "                   [-1, 0, 1]])\n",
    "\n",
    "input_padded = np.zeros([8, 8])\n",
    "input_padded[1:7, 1:7] = input_image[:, :]\n",
    "print(input_padded)\n",
    "\n",
    "output = convolve(input_image, kernel, mode='constant', cval=0.0)\n",
    "\n",
    "print(output)\n",
    "plt.matshow(output, cmap='gray')\n",
    "plt.show()"
   ]
  },
  {
   "cell_type": "code",
   "execution_count": 2,
   "metadata": {},
   "outputs": [
    {
     "data": {
      "text/plain": [
       "<matplotlib.image.AxesImage at 0x22678917fd0>"
      ]
     },
     "execution_count": 2,
     "metadata": {},
     "output_type": "execute_result"
    },
    {
     "data": {
      "image/png": "[encoded data removed]",
      "text/plain": [
       "<Figure size 288x288 with 1 Axes>"
      ]
     },
     "metadata": {
      "needs_background": "light"
     },
     "output_type": "display_data"
    }
   ],
   "source": [
    "plt.matshow(input_image, cmap='gray')"
   ]
  },
  {
   "cell_type": "code",
   "execution_count": 3,
   "metadata": {},
   "outputs": [
    {
     "data": {
      "text/plain": [
       "True"
      ]
     },
     "execution_count": 3,
     "metadata": {},
     "output_type": "execute_result"
    }
   ],
   "source": [
    "import tensorflow as tf\n",
    "tf.enable_eager_execution()\n",
    "tf.executing_eagerly()"
   ]
  },
  {
   "cell_type": "code",
   "execution_count": 4,
   "metadata": {},
   "outputs": [],
   "source": [
    "init = tf.constant(kernel)"
   ]
  },
  {
   "cell_type": "code",
   "execution_count": 12,
   "metadata": {},
   "outputs": [],
   "source": [
    "output_tf = tf.keras.layers.Conv2D(filters=1, kernel_size=(3, 3), \n",
    "                                   padding='same',\n",
    "                                   strides=(1, 1),\n",
    "                                   use_bias=False,\n",
    "                                   kernel_initializer=tf.constant_initializer(kernel))(input_image.reshape(1, 6, 6, 1))"
   ]
  },
  {
   "cell_type": "code",
   "execution_count": 15,
   "metadata": {},
   "outputs": [
    {
     "name": "stdout",
     "output_type": "stream",
     "text": [
      "[[ 1.    1.    0.   -0.75 -1.   -0.25]\n",
      " [ 2.    1.   -1.    0.25 -1.   -1.25]\n",
      " [ 3.    0.   -3.    2.25  0.25 -2.25]\n",
      " [ 3.    0.   -3.    2.    0.25 -2.  ]\n",
      " [ 3.    0.   -3.    1.    0.25 -1.  ]\n",
      " [ 2.    0.   -2.    0.    0.    0.  ]]\n",
      "[[-1.   -1.    0.    0.75  1.    0.25]\n",
      " [-2.   -1.    1.   -0.25  1.    1.25]\n",
      " [-3.    0.    3.   -2.25 -0.25  2.25]\n",
      " [-3.    0.    3.   -2.   -0.25  2.  ]\n",
      " [-3.    0.    3.   -1.   -0.25  1.  ]\n",
      " [-2.    0.    2.    0.    0.    0.  ]]\n"
     ]
    }
   ],
   "source": [
    "print(output_tf.numpy().reshape(6, 6))\n",
    "print(output)"
   ]
  },
  {
   "cell_type": "code",
   "execution_count": 19,
   "metadata": {},
   "outputs": [
    {
     "name": "stdout",
     "output_type": "stream",
     "text": [
      "[[ 2.    0.25 -0.25]\n",
      " [ 3.    2.25  0.25]\n",
      " [ 3.    1.    0.25]]\n"
     ]
    }
   ],
   "source": [
    "pool_tf = tf.keras.layers.MaxPool2D(strides=(2,2), padding='same')(output_tf)\n",
    "print(pool_tf.numpy().reshape(3, 3))"
   ]
  },
  {
   "cell_type": "code",
   "execution_count": 20,
   "metadata": {},
   "outputs": [
    {
     "name": "stdout",
     "output_type": "stream",
     "text": [
      "[[ 2.    0.25 -0.25]\n",
      " [ 3.    2.25  0.25]\n",
      " [ 3.    1.    0.25]]\n"
     ]
    }
   ],
   "source": [
    "pool_tf = tf.keras.layers.MaxPool2D(strides=(2,2), padding='valid')(output_tf)\n",
    "print(pool_tf.numpy().reshape(3, 3))"
   ]
  },
  {
   "cell_type": "code",
   "execution_count": null,
   "metadata": {},
   "outputs": [],
   "source": []
  }
 ],
 "metadata": {
  "kernelspec": {
   "display_name": "Python 3",
   "language": "python",
   "name": "python3"
  },
  "language_info": {
   "codemirror_mode": {
    "name": "ipython",
    "version": 3
   },
   "file_extension": ".py",
   "mimetype": "text/x-python",
   "name": "python",
   "nbconvert_exporter": "python",
   "pygments_lexer": "ipython3",
   "version": "3.6.8"
  }
 },
 "nbformat": 4,
 "nbformat_minor": 2
}
