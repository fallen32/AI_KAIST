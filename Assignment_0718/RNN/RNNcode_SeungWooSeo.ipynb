{
 "cells": [
  {
   "cell_type": "code",
   "execution_count": 104,
   "metadata": {},
   "outputs": [],
   "source": [
    "import numpy as np\n",
    "\n",
    "#There is 2 states and 7+2 instructions\n",
    "initial_state = np.array([1, 2])\n",
    "initial_instruction = np.array([1, 0, 0, 0, 0, 0, 0, 0, 0])\n",
    "\n",
    "initial = np.concatenate([initial_state, initial_instruction])"
   ]
  },
  {
   "cell_type": "code",
   "execution_count": 105,
   "metadata": {},
   "outputs": [],
   "source": [
    "def transition_mat(vec):\n",
    "    transition = np.array([[1, 0, 0, 0, 0, 0, 0, 0, 0, 0, 0],\n",
    "                           [0, 1, 0, 0, 0, 0, 0, 0, 0, 0, -1],\n",
    "                           [0, 0, 0, 1, 0, 0, 0, 0, 0, 0, 0],\n",
    "                           [0, -1, 0, 0, 1, 0, 0, 0, 0, 0, 0],\n",
    "                           [1, 0, 0, 0, 0, 1, 0, 0, 0, 0, 0],\n",
    "                           [0, 0, 0, 0, 0, 0, 0, 0, 0, 1, 1],\n",
    "                           [1, 0, 0, 0, 0, 0, 0, 1, 0, 0, 0],\n",
    "                           [0, -1, 0, 0, 0, 0, 0, 0, 1, 0, 0],\n",
    "                           [0, 0, 0, 0, 0, 0, 0, 0, 0, 0, 0],\n",
    "                           [0, 0, 0, 0, 0, 0, 0, 1, 0, 0, 0],\n",
    "                           [0, 0, 0, 0, 0, 0, 1, -1, 0, 0, 0]])\n",
    "    \n",
    "    return np.matmul(vec, transition)"
   ]
  },
  {
   "cell_type": "code",
   "execution_count": 106,
   "metadata": {},
   "outputs": [
    {
     "name": "stdout",
     "output_type": "stream",
     "text": [
      "[1 2 0 1 0 0 0 0 0 0 0]\n",
      "[1 1 0 0 1 0 0 0 0 0 0]\n",
      "[2 1 0 0 0 1 0 0 0 0 0]\n",
      "[2 1 0 0 0 0 0 0 0 1 0]\n",
      "[2 1 0 0 0 0 0 1 0 0 0]\n",
      "[2 0 0 0 0 0 0 0 1 0 0]\n",
      "[2 0 0 0 0 0 0 0 0 0 0]\n",
      "[2 0 0 0 0 0 0 0 0 0 0]\n",
      "[2 0 0 0 0 0 0 0 0 0 0]\n",
      "[2 0 0 0 0 0 0 0 0 0 0]\n"
     ]
    }
   ],
   "source": [
    "curr = initial\n",
    "for _ in range(10):\n",
    "    curr = transition_mat(curr)\n",
    "    curr = curr.clip(min=0)\n",
    "    print(curr)"
   ]
  },
  {
   "cell_type": "code",
   "execution_count": null,
   "metadata": {},
   "outputs": [],
   "source": []
  }
 ],
 "metadata": {
  "kernelspec": {
   "display_name": "Python 3",
   "language": "python",
   "name": "python3"
  },
  "language_info": {
   "codemirror_mode": {
    "name": "ipython",
    "version": 3
   },
   "file_extension": ".py",
   "mimetype": "text/x-python",
   "name": "python",
   "nbconvert_exporter": "python",
   "pygments_lexer": "ipython3",
   "version": "3.6.8"
  }
 },
 "nbformat": 4,
 "nbformat_minor": 2
}
