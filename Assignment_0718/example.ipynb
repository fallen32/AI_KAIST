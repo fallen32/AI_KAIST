{
 "cells": [
  {
   "cell_type": "code",
   "execution_count": 2,
   "metadata": {},
   "outputs": [],
   "source": [
    "import numpy as np"
   ]
  },
  {
   "cell_type": "markdown",
   "metadata": {},
   "source": [
    "## 예시. 다음 Instrunction에 해당하는 transtition matrix를 찾으시오."
   ]
  },
  {
   "cell_type": "markdown",
   "metadata": {},
   "source": [
    "1. V0 <- V0\n",
    "2. V1 <- V1+1\n",
    "3. IF V1 $\\neq$ 0 GOTO 5\n",
    "4. V0 <- V0-1\n",
    "5. END (Do Nothing)\n",
    "<br>\n",
    "\n",
    "\n",
    "- variable의 수: 2\n",
    "- branch instruction의 수: 1\n",
    "- branch instruction의 경우 한 개당 두개의 추가 instrunction이 필요함.\n",
    "- operation의 수: 5\n",
    "- transition matrix의 사이즈: 9X9 $\\because$(2+2*1+5)=9"
   ]
  },
  {
   "cell_type": "code",
   "execution_count": 3,
   "metadata": {},
   "outputs": [],
   "source": [
    "MAT = np.array([[1,0,0,0,0,0,0,0,0],\n",
    "                 [0,1,0,0,0,0,0,0,-1],\n",
    "                 [0,0,0,1,0,0,0,0,0],\n",
    "                 [0,1,0,0,1,0,0,0,0],\n",
    "                 [0,0,0,0,0,0,0,1,1],\n",
    "                 [-1,0,0,0,0,0,1,0,0],\n",
    "                 [0,0,0,0,0,0,0,0,0],\n",
    "                 [0,0,0,0,0,0,1,0,0],\n",
    "                 [0,0,0,0,0,1,-1,0,0],\n",
    "                ])"
   ]
  },
  {
   "cell_type": "code",
   "execution_count": 4,
   "metadata": {
    "scrolled": true
   },
   "outputs": [
    {
     "name": "stdout",
     "output_type": "stream",
     "text": [
      "[1 2 0 1 0 0 0 0 0]\n",
      "[1 3 0 0 1 0 0 0 0]\n",
      "[1 3 0 0 0 0 0 1 0]\n",
      "[1 3 0 0 0 0 1 0 0]\n",
      "[1 3 0 0 0 0 0 0 0]\n",
      "[1 3 0 0 0 0 0 0 0]\n",
      "[1 3 0 0 0 0 0 0 0]\n",
      "[1 3 0 0 0 0 0 0 0]\n",
      "[1 3 0 0 0 0 0 0 0]\n",
      "[1 3 0 0 0 0 0 0 0]\n"
     ]
    }
   ],
   "source": [
    "INIT = np.array([1,2,1,0,0,0,0,0,0])\n",
    "\n",
    "curr = INIT\n",
    "for _ in range(10):\n",
    "    curr = np.matmul(curr, MAT)\n",
    "    curr = curr.clip(min=0)\n",
    "    print(curr)"
   ]
  }
 ],
 "metadata": {
  "kernelspec": {
   "display_name": "Python 3.6",
   "language": "python",
   "name": "python3"
  },
  "language_info": {
   "codemirror_mode": {
    "name": "ipython",
    "version": 3
   },
   "file_extension": ".py",
   "mimetype": "text/x-python",
   "name": "python",
   "nbconvert_exporter": "python",
   "pygments_lexer": "ipython3",
   "version": "3.6.4"
  }
 },
 "nbformat": 4,
 "nbformat_minor": 2
}
