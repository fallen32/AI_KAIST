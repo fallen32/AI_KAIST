{
 "cells": [
  {
   "cell_type": "markdown",
   "metadata": {},
   "source": [
    "# 삼성 DS-KAIST AI Expert 프로그램\n",
    "## Week 3: 신경망 기초, 다층신경망\n",
    "\n",
    "실습 일시: 2019년 7월 15일 (월), 13:30 - 17:30\n",
    "\n",
    "담당 조교: 정종헌 (jongheonj@kaist.ac.kr)"
   ]
  },
  {
   "cell_type": "code",
   "execution_count": 1,
   "metadata": {},
   "outputs": [
    {
     "name": "stdout",
     "output_type": "stream",
     "text": [
      "Eager execution: True\n",
      "1.14.0\n"
     ]
    }
   ],
   "source": [
    "# 실습에서 사용할 모듈을 import 합니다.\n",
    "\n",
    "# IPython 상에서 matplotlib 라이브러리가 \n",
    "# 별도의 창 없이 즉시 plot을 출력할 수 있도록 설정을 변경합니다.\n",
    "%matplotlib inline\n",
    "\n",
    "import functools\n",
    "import time\n",
    "\n",
    "import numpy as np\n",
    "import matplotlib.pyplot as plt\n",
    "\n",
    "import tensorflow as tf\n",
    "from tensorflow import keras\n",
    "import tensorflow.keras.layers as L\n",
    "import tensorflow.keras.backend as K\n",
    "\n",
    "# \"즉시 실행\" (eager execution) 기능을 활성화합니다.\n",
    "# 즉시 실행 활성화로 TensorFlow를 대화형 프론트엔드(frontend)에 가깝게 만들어 줍니다.\n",
    "# 해당 기능은 TensorFlow 2.0 부터는 기본적으로 활성화됩니다. \n",
    "tf.enable_eager_execution()\n",
    "print(\"Eager execution: {}\".format(tf.executing_eagerly()))\n",
    "\n",
    "config = tf.ConfigProto()\n",
    "config.gpu_options.allow_growth = True\n",
    "K.set_session(tf.Session(config=config))\n",
    "print(tf.__version__)"
   ]
  },
  {
   "cell_type": "code",
   "execution_count": 2,
   "metadata": {},
   "outputs": [],
   "source": [
    "# 실습 과정에서 사용되는 도움함수를 정의합니다. \n",
    "\n",
    "def parse(line):\n",
    "    \"\"\"색깔 데이터셋의 각 라인을 파싱함\"\"\"\n",
    "\n",
    "    # 데이터셋의 각 라인은 쉼표로(,) 구분되어 있고, 다음과 같은 포맷을 가집니다.\n",
    "    #    color_name, r, g, b\n",
    "    # 따라서, `items` 는 [color_name, r, g, b]의 형태를 가지는 list입니다.\n",
    "    items = tf.string_split([line], \",\").values\n",
    "    \n",
    "    # 불러온 데이터셋의 (r, g, b)는 0~255 사이의 값을 가집니다.\n",
    "    # 여기서는 각 수치가 0~1 사이의 값을 가지도록 전처리합니다.\n",
    "    rgb = tf.string_to_number(items[1:], out_type=tf.float32) / 255.\n",
    "    \n",
    "    # color_name은 색깔의 이름을 나타내는 string입니다.\n",
    "    # string의 각 character를 숫자로 변환하고, 이를 one-hot 인코딩하여 전처리합니다.\n",
    "    color_name = items[0]\n",
    "    chars = tf.one_hot(tf.decode_raw(color_name, tf.uint8), depth=256)\n",
    "    \n",
    "    # color_name의 string 길이도 전처리로 계산하여 함께 전달합니다.\n",
    "    length = tf.cast(tf.shape(chars)[0], dtype=tf.int64)\n",
    "    \n",
    "    return rgb, chars, length\n",
    "\n",
    "def load_dataset(data_path, batch_size):\n",
    "    # 효과적인 학습 구성을 위해, .csv 형태의 데이터셋을 tf.data.Dataset으로 변환합니다:\n",
    "    #   1. 첫 헤더 줄을 생략합니다; (.skip(1))\n",
    "    #   2. 각 줄에 대해 `parse()` 함수를 적용합니다; (.map(parse))\n",
    "    #   3. 데이터를 무작위로 셔플합니다; (.shuffle(...))\n",
    "    #   3. 데이터를 배치 형태로 묶습니다 (.padded_batch(...)).\n",
    "    dataset = tf.data.TextLineDataset(data_path).skip(1).map(parse)\n",
    "    dataset = dataset.shuffle(10000).padded_batch(batch_size, padded_shapes=([None], [None, None], []))\n",
    "    return dataset"
   ]
  },
  {
   "cell_type": "code",
   "execution_count": 3,
   "metadata": {},
   "outputs": [],
   "source": [
    "class RNNColorbot(tf.keras.Model):\n",
    "    \"\"\"Multi-layer (LSTM) RNN that regresses on real-valued vector labels.\"\"\"\n",
    "\n",
    "    def __init__(self, rnn_cell_sizes):\n",
    "        \"\"\"Constructs an RNNColorbot.\n",
    "\n",
    "        Args:\n",
    "            rnn_cell_sizes: list of integers denoting the size of each LSTM cell in\n",
    "                the RNN; rnn_cell_sizes[i] is the size of the i-th layer cell\n",
    "        \"\"\"\n",
    "        super(RNNColorbot, self).__init__()\n",
    "\n",
    "        self.cells = [L.LSTMCell(size) for size in rnn_cell_sizes]\n",
    "        self.relu = L.Dense(3, activation=tf.nn.relu)\n",
    "\n",
    "    def call(self, inputs):\n",
    "        \"\"\"Implements the RNN logic and prediction generation.\n",
    "\n",
    "        Args:\n",
    "            inputs: A tuple (chars, sequence_length), where chars is a batch of\n",
    "                one-hot encoded color names represented as a Tensor with dimensions\n",
    "                [batch_size, time_steps, 256] and sequence_length holds the length\n",
    "                of each character sequence (color name) as a Tensor with dimension\n",
    "                [batch_size].\n",
    "\n",
    "        Returns:\n",
    "            A tensor of dimension [batch_size, label_dimension] that is produced by\n",
    "            passing chars through a multi-layer RNN and applying a ReLU to the final\n",
    "            hidden state.\n",
    "        \"\"\"\n",
    "        (chars, sequence_length) = inputs\n",
    "        \n",
    "        # Transpose the first and second dimensions so that chars is of shape\n",
    "        # [time_steps, batch_size, dimension].\n",
    "        chars = tf.transpose(chars, [1, 0, 2])\n",
    "        \n",
    "        # The outer loop cycles through the layers of the RNN; \n",
    "        # the inner loop executes the time steps for a particular layer.\n",
    "        batch_size = int(chars.shape[1])\n",
    "        for l in range(len(self.cells)):\n",
    "            cell = self.cells[l]\n",
    "            outputs = []\n",
    "            state = cell.get_initial_state(batch_size=batch_size, dtype=tf.float32)\n",
    "            \n",
    "            # Unstack the inputs to obtain a list of batches, one for each time step.\n",
    "            chars = tf.unstack(chars, axis=0)\n",
    "            \n",
    "            for ch in chars:\n",
    "                output, state = cell(ch, state)\n",
    "                outputs.append(output)\n",
    "                \n",
    "            # The outputs of this layer are the inputs of the subsequent layer.\n",
    "            chars = tf.stack(outputs, axis=0)\n",
    "            \n",
    "        # Extract the correct output (i.e., hidden state) for each example. All the\n",
    "        # character sequences in this batch were padded to the same fixed length so\n",
    "        # that they could be easily fed through the above RNN loop. The\n",
    "        # `sequence_length` vector tells us the true lengths of the character\n",
    "        # sequences, letting us obtain for each sequence the hidden state that was\n",
    "        # generated by its non-padding characters.\n",
    "        batch_range = [i for i in range(batch_size)]\n",
    "        indices = tf.stack([sequence_length - 1, batch_range], axis=1)\n",
    "        hidden_states = tf.gather_nd(chars, indices)\n",
    "        return self.relu(hidden_states)"
   ]
  },
  {
   "cell_type": "code",
   "execution_count": 4,
   "metadata": {},
   "outputs": [],
   "source": [
    "# 학습하고자 하는 모델을 구성합니다. \n",
    "# 여기서는, 2-레이어의 LSTM 셀을 사용하는 RNN을 구성할 것입니다.\n",
    "model = RNNColorbot(rnn_cell_sizes=[256, 128])\n",
    "\n",
    "# 훈련 데이터셋과 테스트 데이터셋을 로드합니다.\n",
    "train_ds = load_dataset('resource/rnn_train.csv', batch_size=64)\n",
    "test_ds = load_dataset('resource/rnn_test.csv', batch_size=64)\n",
    "\n",
    "# Adam 알고리즘을 통해 최적화를 수행하고, learning rate를 0.01로 설정합니다.\n",
    "optimizer = tf.train.AdamOptimizer(learning_rate=0.01)\n",
    "\n",
    "# 최적화하고자 하는 loss를 정의합니다.\n",
    "def loss_object(labels, predictions):\n",
    "    return tf.reduce_mean(tf.math.squared_difference(predictions, labels))\n",
    "\n",
    "# 학습 도중 계산되는 성능 측정값을 계산할 수 있는 연산자를 생성합니다.\n",
    "train_loss = keras.metrics.Mean(\"train_loss\")\n",
    "test_loss = keras.metrics.Mean(\"test_loss\")"
   ]
  },
  {
   "cell_type": "code",
   "execution_count": 5,
   "metadata": {},
   "outputs": [],
   "source": [
    "def train_step(model, labels, chars, sequence_length):\n",
    "    with tf.GradientTape() as tape:\n",
    "        predictions = model((chars, sequence_length))\n",
    "        loss = loss_object(labels, predictions)\n",
    "    gradients = tape.gradient(loss, model.trainable_variables)\n",
    "    optimizer.apply_gradients(zip(gradients, model.trainable_variables))\n",
    "    train_loss(loss)\n",
    "\n",
    "def test_step(model, labels, chars, sequence_length):\n",
    "    predictions = model((chars, sequence_length))\n",
    "    test_loss(loss_object(labels, predictions))"
   ]
  },
  {
   "cell_type": "code",
   "execution_count": 6,
   "metadata": {
    "scrolled": false
   },
   "outputs": [
    {
     "name": "stdout",
     "output_type": "stream",
     "text": [
      "===== Epoch 1 =====\n"
     ]
    },
    {
     "name": "stderr",
     "output_type": "stream",
     "text": [
      "WARNING: Logging before flag parsing goes to stderr.\n",
      "W0728 06:35:08.535006 20064 deprecation.py:323] From c:\\users\\ironm\\tf-nightly\\lib\\site-packages\\tensorflow\\python\\ops\\math_grad.py:1220: add_dispatch_support.<locals>.wrapper (from tensorflow.python.ops.array_ops) is deprecated and will be removed in a future version.\n",
      "Instructions for updating:\n",
      "Use tf.where in 2.0, which has the same broadcast rule as np.where\n"
     ]
    },
    {
     "name": "stdout",
     "output_type": "stream",
     "text": [
      "[TRAIN] Avg. Loss: 0.191411\n",
      "[TEST] Avg. Loss: 0.0819\n",
      "===== Epoch 2 =====\n",
      "[TRAIN] Avg. Loss: 0.135199\n",
      "[TEST] Avg. Loss: 0.0760\n",
      "===== Epoch 3 =====\n",
      "[TRAIN] Avg. Loss: 0.113114\n",
      "[TEST] Avg. Loss: 0.0744\n",
      "===== Epoch 4 =====\n",
      "[TRAIN] Avg. Loss: 0.101175\n",
      "[TEST] Avg. Loss: 0.0740\n",
      "===== Epoch 5 =====\n",
      "[TRAIN] Avg. Loss: 0.093555\n",
      "[TEST] Avg. Loss: 0.0738\n",
      "===== Epoch 6 =====\n",
      "[TRAIN] Avg. Loss: 0.087977\n",
      "[TEST] Avg. Loss: 0.0736\n",
      "===== Epoch 7 =====\n",
      "[TRAIN] Avg. Loss: 0.083553\n",
      "[TEST] Avg. Loss: 0.0731\n",
      "===== Epoch 8 =====\n",
      "[TRAIN] Avg. Loss: 0.079811\n",
      "[TEST] Avg. Loss: 0.0727\n",
      "===== Epoch 9 =====\n",
      "[TRAIN] Avg. Loss: 0.076641\n",
      "[TEST] Avg. Loss: 0.0726\n",
      "===== Epoch 10 =====\n",
      "[TRAIN] Avg. Loss: 0.073805\n",
      "[TEST] Avg. Loss: 0.0726\n",
      "===== Epoch 11 =====\n",
      "[TRAIN] Avg. Loss: 0.071051\n",
      "[TEST] Avg. Loss: 0.0722\n",
      "===== Epoch 12 =====\n",
      "[TRAIN] Avg. Loss: 0.068647\n",
      "[TEST] Avg. Loss: 0.0717\n",
      "===== Epoch 13 =====\n",
      "[TRAIN] Avg. Loss: 0.066587\n",
      "[TEST] Avg. Loss: 0.0714\n",
      "===== Epoch 14 =====\n",
      "[TRAIN] Avg. Loss: 0.064751\n",
      "[TEST] Avg. Loss: 0.0717\n",
      "===== Epoch 15 =====\n",
      "[TRAIN] Avg. Loss: 0.062961\n",
      "[TEST] Avg. Loss: 0.0721\n",
      "===== Epoch 16 =====\n",
      "[TRAIN] Avg. Loss: 0.061167\n",
      "[TEST] Avg. Loss: 0.0722\n",
      "===== Epoch 17 =====\n",
      "[TRAIN] Avg. Loss: 0.059420\n",
      "[TEST] Avg. Loss: 0.0724\n",
      "===== Epoch 18 =====\n",
      "[TRAIN] Avg. Loss: 0.057709\n",
      "[TEST] Avg. Loss: 0.0721\n",
      "===== Epoch 19 =====\n",
      "[TRAIN] Avg. Loss: 0.056099\n",
      "[TEST] Avg. Loss: 0.0715\n",
      "===== Epoch 20 =====\n",
      "[TRAIN] Avg. Loss: 0.054449\n",
      "[TEST] Avg. Loss: 0.0715\n",
      "ColorBot is ready to generate colors!\n"
     ]
    }
   ],
   "source": [
    "# 전체 데이터셋을 20번 재방문 할 때까지 훈련을 반복합니다.\n",
    "EPOCHS = 20\n",
    "\n",
    "for epoch in range(EPOCHS):\n",
    "    print(f\"===== Epoch {epoch+1:d} =====\")\n",
    "    for labels, chars, sequence_length in train_ds:\n",
    "        train_step(model, labels, chars, sequence_length)\n",
    "    print(f\"[TRAIN] Avg. Loss: {train_loss.result():.6f}\")\n",
    "    \n",
    "    for labels, chars, sequence_length in test_ds:\n",
    "        test_step(model, labels, chars, sequence_length)\n",
    "    print(f\"[TEST] Avg. Loss: {test_loss.result():.4f}\")\n",
    "\n",
    "print(\"ColorBot is ready to generate colors!\")"
   ]
  },
  {
   "cell_type": "code",
   "execution_count": 7,
   "metadata": {},
   "outputs": [],
   "source": [
    "def colorbot(color_name):\n",
    "    _, chars, length = parse(color_name)\n",
    "    chars = tf.expand_dims(chars, 0)\n",
    "    length = tf.expand_dims(length, 0)\n",
    "    preds = tf.unstack(model((chars, length))[0])\n",
    "\n",
    "    # 학습 모델이 마지막에 ReLU activation을 사용하기 때문에, \n",
    "    # 예측값이 1이 넘을 수도 있습니다. \n",
    "    # 예측된 값이 0~1 사이의 값을 가지도록 결과값을 clipping 합니다.\n",
    "    clipped_preds = tuple(min(float(p), 1.0) for p in preds)\n",
    "    rgb = tuple(int(p * 255) for p in clipped_preds)\n",
    "    print(\"Predicted RGB values:\", rgb)\n",
    "    plt.imshow([[clipped_preds]])\n",
    "    plt.title(color_name)\n",
    "    plt.show()"
   ]
  },
  {
   "cell_type": "code",
   "execution_count": 8,
   "metadata": {},
   "outputs": [
    {
     "name": "stdout",
     "output_type": "stream",
     "text": [
      "Predicted RGB values: (228, 218, 102)\n"
     ]
    },
    {
     "data": {
      "image/png": "[encoded data removed]",
      "text/plain": [
       "<Figure size 432x288 with 1 Axes>"
      ]
     },
     "metadata": {
      "needs_background": "light"
     },
     "output_type": "display_data"
    }
   ],
   "source": [
    "colorbot('tensorflow yellow')"
   ]
  },
  {
   "cell_type": "code",
   "execution_count": 9,
   "metadata": {},
   "outputs": [
    {
     "name": "stdout",
     "output_type": "stream",
     "text": [
      "Predicted RGB values: (224, 31, 75)\n"
     ]
    },
    {
     "data": {
      "image/png": "[encoded data removed]",
      "text/plain": [
       "<Figure size 432x288 with 1 Axes>"
      ]
     },
     "metadata": {
      "needs_background": "light"
     },
     "output_type": "display_data"
    }
   ],
   "source": [
    "colorbot('crimson')"
   ]
  },
  {
   "cell_type": "code",
   "execution_count": 10,
   "metadata": {},
   "outputs": [
    {
     "name": "stdout",
     "output_type": "stream",
     "text": [
      "Predicted RGB values: (243, 250, 220)\n"
     ]
    },
    {
     "data": {
      "image/png": "[encoded data removed]",
      "text/plain": [
       "<Figure size 432x288 with 1 Axes>"
      ]
     },
     "metadata": {
      "needs_background": "light"
     },
     "output_type": "display_data"
    }
   ],
   "source": [
    "colorbot('white')"
   ]
  },
  {
   "cell_type": "code",
   "execution_count": 11,
   "metadata": {},
   "outputs": [
    {
     "name": "stdout",
     "output_type": "stream",
     "text": [
      "Predicted RGB values: (0, 0, 0)\n"
     ]
    },
    {
     "data": {
      "image/png": "[encoded data removed]",
      "text/plain": [
       "<Figure size 432x288 with 1 Axes>"
      ]
     },
     "metadata": {
      "needs_background": "light"
     },
     "output_type": "display_data"
    }
   ],
   "source": [
    "colorbot('black')"
   ]
  },
  {
   "cell_type": "code",
   "execution_count": 12,
   "metadata": {},
   "outputs": [
    {
     "name": "stdout",
     "output_type": "stream",
     "text": [
      "Predicted RGB values: (168, 178, 187)\n"
     ]
    },
    {
     "data": {
      "image/png": "[encoded data removed]",
      "text/plain": [
       "<Figure size 432x288 with 1 Axes>"
      ]
     },
     "metadata": {
      "needs_background": "light"
     },
     "output_type": "display_data"
    }
   ],
   "source": [
    "colorbot('gray')"
   ]
  },
  {
   "cell_type": "code",
   "execution_count": 13,
   "metadata": {},
   "outputs": [
    {
     "name": "stdout",
     "output_type": "stream",
     "text": [
      "Predicted RGB values: (208, 61, 110)\n"
     ]
    },
    {
     "data": {
      "image/png": "[encoded data removed]",
      "text/plain": [
       "<Figure size 432x288 with 1 Axes>"
      ]
     },
     "metadata": {
      "needs_background": "light"
     },
     "output_type": "display_data"
    }
   ],
   "source": [
    "colorbot('rose')"
   ]
  },
  {
   "cell_type": "code",
   "execution_count": 14,
   "metadata": {},
   "outputs": [
    {
     "name": "stdout",
     "output_type": "stream",
     "text": [
      "Predicted RGB values: (98, 188, 226)\n"
     ]
    },
    {
     "data": {
      "image/png": "[encoded data removed]",
      "text/plain": [
       "<Figure size 432x288 with 1 Axes>"
      ]
     },
     "metadata": {
      "needs_background": "light"
     },
     "output_type": "display_data"
    }
   ],
   "source": [
    "colorbot('sky blue')"
   ]
  },
  {
   "cell_type": "code",
   "execution_count": null,
   "metadata": {},
   "outputs": [],
   "source": []
  }
 ],
 "metadata": {
  "kernelspec": {
   "display_name": "Python 3",
   "language": "python",
   "name": "python3"
  },
  "language_info": {
   "codemirror_mode": {
    "name": "ipython",
    "version": 3
   },
   "file_extension": ".py",
   "mimetype": "text/x-python",
   "name": "python",
   "nbconvert_exporter": "python",
   "pygments_lexer": "ipython3",
   "version": "3.6.8"
  }
 },
 "nbformat": 4,
 "nbformat_minor": 4
}
